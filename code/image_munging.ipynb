{
 "cells": [
  {
   "cell_type": "code",
   "execution_count": 7,
   "metadata": {},
   "outputs": [],
   "source": [
    "'''keep consistant across all notebooks'''\n",
    "import os\n",
    "import pandas as pd\n",
    "from PIL import Image \n",
    "import keras\n",
    "import tensorflow"
   ]
  },
  {
   "cell_type": "code",
   "execution_count": 4,
   "metadata": {},
   "outputs": [
    {
     "data": {
      "text/plain": [
       "''"
      ]
     },
     "execution_count": 4,
     "metadata": {},
     "output_type": "execute_result"
    }
   ],
   "source": [
    "''' Outline for notebook:\n",
    "<> - less important - after mvp\n",
    "- checks csv for log if new file work on, add to log.\n",
    "- unzip/transfer file into filtered folder if new zips/files found in keg\n",
    "- if added to log and unuseable drop file\n",
    "<> - less important - after mvp\n",
    "- read all file.types in assets folder\n",
    "- if file.type is usable skip\n",
    "- if unusable convert\n",
    "\n",
    "\n",
    "<> - Step 1\n",
    "- record file names.type to report csv called input\n",
    "- read usable files\n",
    "- convert image to number array for image_nn\n",
    "- write to csv called image_data\n",
    "- if successful, write file name to report csv called retained\n",
    "- compare size of input to retained\n",
    "'''"
   ]
  },
  {
   "cell_type": "code",
   "execution_count": 8,
   "metadata": {},
   "outputs": [
    {
     "ename": "SyntaxError",
     "evalue": "invalid syntax (<ipython-input-8-1fcfa2ef1411>, line 1)",
     "output_type": "error",
     "traceback": [
      "\u001b[0;36m  File \u001b[0;32m\"<ipython-input-8-1fcfa2ef1411>\"\u001b[0;36m, line \u001b[0;32m1\u001b[0m\n\u001b[0;31m    ```train_files = [f for f in glob.glob(\"./trainset/*\")]\u001b[0m\n\u001b[0m    ^\u001b[0m\n\u001b[0;31mSyntaxError\u001b[0m\u001b[0;31m:\u001b[0m invalid syntax\n"
     ]
    }
   ],
   "source": [
    "'''\n",
    "glob.glob is like fname to find all files\n",
    "os.\n",
    "'''\n",
    "\n",
    "train_files = [f for f in glob.glob(\"./trainset/*\")]\n",
    "cv2.imread(train_files[0])```\n",
    "```import numpy as np\n",
    "import pandas as pd\n",
    "import matplotlib.pyplot as plt\n",
    "%matplotlib inline\n",
    "from PIL import Image, ImageFilter\n",
    "import random\n",
    "import cv2\n",
    "import os, glob\n",
    "from IPython.core.interactiveshell import InteractiveShell\n",
    "InteractiveShell.ast_node_interactivity = \"all\" # see the value of multiple statements at once.\n",
    "pd.set_option('display.max_columns', None)\n",
    "pd.set_option('display.max_rows', None)```"
   ]
  },
  {
   "cell_type": "code",
   "execution_count": null,
   "metadata": {
    "collapsed": true
   },
   "outputs": [],
   "source": []
  }
 ],
 "metadata": {
  "kernelspec": {
   "display_name": "Python [conda env:tensorflow]",
   "language": "python",
   "name": "conda-env-tensorflow-py"
  },
  "language_info": {
   "codemirror_mode": {
    "name": "ipython",
    "version": 3
   },
   "file_extension": ".py",
   "mimetype": "text/x-python",
   "name": "python",
   "nbconvert_exporter": "python",
   "pygments_lexer": "ipython3",
   "version": "3.6.4"
  }
 },
 "nbformat": 4,
 "nbformat_minor": 2
}
