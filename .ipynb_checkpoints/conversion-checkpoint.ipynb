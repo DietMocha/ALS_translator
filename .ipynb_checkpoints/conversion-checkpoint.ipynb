{
 "cells": [
  {
   "cell_type": "code",
   "execution_count": null,
   "metadata": {
    "collapsed": true
   },
   "outputs": [],
   "source": [
    "'''\n",
    "Roadmap:\n",
    "\n",
    "MVP     - Image classifier for B\n",
    "MVP+1   - Image Classifier for A, B, C, Five, Point\n",
    "MVP_ASL - Image Classifier for A, B, C, D, E... Z\n",
    "Proto   - Image Classifier for Dictionary words\n",
    "Proto + second hand\n",
    "Proto + body\n",
    "Product - Video image Classifer <> GoPro, Kinect\n",
    "Final   - Works in an 'Google Translator' App\n",
    "'''"
   ]
  },
  {
   "cell_type": "code",
   "execution_count": 84,
   "metadata": {},
   "outputs": [],
   "source": [
    "import os, glob, cv2, random, re\n",
    "import numpy as np\n",
    "import pandas as pd\n",
    "import matplotlib.pyplot as plt\n",
    "import keras\n",
    "import tensorflow\n",
    "from skimage import io\n",
    "from PIL import Image, ImageFilter\n",
    "from IPython.core.interactiveshell import InteractiveShell\n",
    "from sklearn.cross_validation import train_test_split, cross_val_score\n",
    "\n",
    "%matplotlib inline"
   ]
  },
  {
   "cell_type": "code",
   "execution_count": 85,
   "metadata": {
    "collapsed": true
   },
   "outputs": [],
   "source": [
    "'''\n",
    "collecting all data locations into lists\n",
    "<> replace with code to check ./input for images, add to data\n",
    "'''\n",
    "\n",
    "part_five  = [image for image in glob.glob('./input/Marcel-Train/Five/*')]\n",
    "part_a     = [image for image in glob.glob('./input/Marcel-Train/A/*')]\n",
    "part_b     = [image for image in glob.glob('./input/Marcel-Train/B/*')]\n",
    "part_point = [image for image in glob.glob('./input/Marcel-Train/Point/*')]\n",
    "part_c     = [image for image in glob.glob('./input/Marcel-Train/C/*')]\n",
    "\n",
    "# df_crime['target']= df_crime.category.map(lambda x: 2 if x.lower() in nonviolent else 1 if x.lower() in noncrimes else 0)\n"
   ]
  },
  {
   "cell_type": "code",
   "execution_count": 54,
   "metadata": {},
   "outputs": [
    {
     "data": {
      "text/plain": [
       "('./input/Marcel-Train/A/A-train0910.ppm',\n",
       " './input/Marcel-Train/C/C-train521.ppm')"
      ]
     },
     "execution_count": 54,
     "metadata": {},
     "output_type": "execute_result"
    }
   ],
   "source": [
    "'''\n",
    "concating data locations into one list\n",
    "'''\n",
    "\n",
    "full = [part_a, part_b, part_c, part_point, part_five]\n",
    "image_paths= []\n",
    "for dataset in full:\n",
    "    image_paths.extend(dataset)\n",
    "    \n",
    "'''sanity check'''\n",
    "train[1], train[2001]"
   ]
  },
  {
   "cell_type": "code",
   "execution_count": 113,
   "metadata": {},
   "outputs": [],
   "source": [
    "'''converting images to arrays, grayscale is on 0 - 1 not out of 255'''\n",
    "\n",
    "all_images = []\n",
    "\n",
    "for image in image_paths:\n",
    "    img = io.imread(image, as_grey=True)\n",
    "#     img = img.reshape(img.shape[0], 68, 68, 1) # doing reshaping in keras\n",
    "    img = img.astype('float32')\n",
    "    all_images.append(img)\n",
    "    \n",
    "# y = np.array(part_b)\n",
    "converted_X = np.array(all_images)\n",
    "# X_train.reshape(X_train.shape[0], 68, 68, 1)"
   ]
  },
  {
   "cell_type": "code",
   "execution_count": 105,
   "metadata": {},
   "outputs": [],
   "source": [
    " '''Setting y target'''\n",
    "target     = []\n",
    "\n",
    "for path in image_paths:\n",
    "    if re.search((r'\\/input\\/Marcel-Train\\/B'), path) != None:\n",
    "        target.append(1)\n",
    "    else:\n",
    "        target.append(0)\n",
    "\n",
    "'''cant figure out list coprehension or lambda for this'''\n",
    "# [c if re.search((r'\\/input\\/Marcel-Train\\/B') == None, path) for path in image_paths]        \n",
    "# <>forloop<>target.append(lambda x: 0 if path != None else 1)\n",
    "\n",
    "'''Sanity Check'''\n",
    "_ = pd.DataFrame(target)\n",
    "_[0].value_counts()"
   ]
  },
  {
   "cell_type": "code",
   "execution_count": 144,
   "metadata": {},
   "outputs": [
    {
     "name": "stdout",
     "output_type": "stream",
     "text": [
      "(4437, 3)\n"
     ]
    },
    {
     "data": {
      "text/html": [
       "<div>\n",
       "<style scoped>\n",
       "    .dataframe tbody tr th:only-of-type {\n",
       "        vertical-align: middle;\n",
       "    }\n",
       "\n",
       "    .dataframe tbody tr th {\n",
       "        vertical-align: top;\n",
       "    }\n",
       "\n",
       "    .dataframe thead th {\n",
       "        text-align: right;\n",
       "    }\n",
       "</style>\n",
       "<table border=\"1\" class=\"dataframe\">\n",
       "  <thead>\n",
       "    <tr style=\"text-align: right;\">\n",
       "      <th></th>\n",
       "      <th>target</th>\n",
       "      <th>input</th>\n",
       "      <th>file_path</th>\n",
       "    </tr>\n",
       "  </thead>\n",
       "  <tbody>\n",
       "    <tr>\n",
       "      <th>0</th>\n",
       "      <td>0</td>\n",
       "      <td>[[0.2935388, 0.27393097, 0.27588823, 0.2837313...</td>\n",
       "      <td>./input/Marcel-Train/A/A-train0904.ppm</td>\n",
       "    </tr>\n",
       "    <tr>\n",
       "      <th>1</th>\n",
       "      <td>0</td>\n",
       "      <td>[[0.57767606, 0.5855192, 0.5899616, 0.5899616,...</td>\n",
       "      <td>./input/Marcel-Train/A/A-train0910.ppm</td>\n",
       "    </tr>\n",
       "    <tr>\n",
       "      <th>2</th>\n",
       "      <td>0</td>\n",
       "      <td>[[0.32892, 0.48578274, 0.57512355, 0.5829667, ...</td>\n",
       "      <td>./input/Marcel-Train/A/A-train0938.ppm</td>\n",
       "    </tr>\n",
       "    <tr>\n",
       "      <th>3</th>\n",
       "      <td>0</td>\n",
       "      <td>[[0.49242902, 0.5081153, 0.42357412, 0.2235741...</td>\n",
       "      <td>./input/Marcel-Train/A/A-train0086.ppm</td>\n",
       "    </tr>\n",
       "    <tr>\n",
       "      <th>4</th>\n",
       "      <td>0</td>\n",
       "      <td>[[0.48402745, 0.5036353, 0.4210286, 0.22887176...</td>\n",
       "      <td>./input/Marcel-Train/A/A-train0092.ppm</td>\n",
       "    </tr>\n",
       "  </tbody>\n",
       "</table>\n",
       "</div>"
      ],
      "text/plain": [
       "   target                                              input  \\\n",
       "0       0  [[0.2935388, 0.27393097, 0.27588823, 0.2837313...   \n",
       "1       0  [[0.57767606, 0.5855192, 0.5899616, 0.5899616,...   \n",
       "2       0  [[0.32892, 0.48578274, 0.57512355, 0.5829667, ...   \n",
       "3       0  [[0.49242902, 0.5081153, 0.42357412, 0.2235741...   \n",
       "4       0  [[0.48402745, 0.5036353, 0.4210286, 0.22887176...   \n",
       "\n",
       "                                file_path  \n",
       "0  ./input/Marcel-Train/A/A-train0904.ppm  \n",
       "1  ./input/Marcel-Train/A/A-train0910.ppm  \n",
       "2  ./input/Marcel-Train/A/A-train0938.ppm  \n",
       "3  ./input/Marcel-Train/A/A-train0086.ppm  \n",
       "4  ./input/Marcel-Train/A/A-train0092.ppm  "
      ]
     },
     "execution_count": 144,
     "metadata": {},
     "output_type": "execute_result"
    }
   ],
   "source": [
    "# np.reshape(X_train[0],68,68)\n",
    "df_hands = pd.DataFrame()\n",
    "df_hands['target'] = target\n",
    "df_hands['input'] = converted_X\n",
    "df_hands['file_path'] = image_paths\n",
    "\n",
    "print(df_hands.shape)\n",
    "df_hands.head()"
   ]
  },
  {
   "cell_type": "code",
   "execution_count": 138,
   "metadata": {},
   "outputs": [
    {
     "data": {
      "text/plain": [
       "2194    [[0.6283659, 0.68326783, 0.67820823, 0.6782082...\n",
       "1705    [[0.17484, 0.26895764, 0.44368705, 0.60839295,...\n",
       "1096    [[0.60819256, 0.6670161, 0.6703651, 0.66252196...\n",
       "4230    [[0.0, 0.0, 0.0, 0.0, 0.0, 0.0, 0.0, 0.0, 0.0,...\n",
       "2063    [[0.769669, 0.78927684, 0.76968473, 0.6677239,...\n",
       "Name: input, dtype: object"
      ]
     },
     "execution_count": 138,
     "metadata": {},
     "output_type": "execute_result"
    }
   ],
   "source": [
    "'''Setting X, y'''\n",
    "y = df_hands.target\n",
    "X = df_hands.input\n",
    "\n",
    "X_train, X_test, y_train, y_test = train_test_split(X, y, \n",
    "                                                    test_size=0.3, \n",
    "                                                    random_state=42)\n",
    "X_train.head()"
   ]
  },
  {
   "cell_type": "code",
   "execution_count": 74,
   "metadata": {},
   "outputs": [
    {
     "data": {
      "text/plain": [
       "(80, 68)"
      ]
     },
     "execution_count": 74,
     "metadata": {},
     "output_type": "execute_result"
    }
   ],
   "source": [
    "X_train[1].shape"
   ]
  },
  {
   "cell_type": "code",
   "execution_count": 147,
   "metadata": {},
   "outputs": [
    {
     "data": {
      "text/plain": [
       "array([0.2935388 , 0.27393097, 0.27588823, 0.28373137, 0.2915745 ,\n",
       "       0.29549608, 0.2865141 , 0.28259254, 0.2834408 , 0.2952055 ,\n",
       "       0.2834408 , 0.2559898 , 0.25569922, 0.27922863, 0.26605725,\n",
       "       0.25429255, 0.25429255, 0.26213568, 0.27449647, 0.26273176,\n",
       "       0.26078236, 0.26470393, 0.26302943, 0.266951  , 0.25599685,\n",
       "       0.25207528, 0.24084628, 0.23692471, 0.25090668, 0.25090668,\n",
       "       0.25596705, 0.28341803, 0.2694361 , 0.24590667, 0.25432312,\n",
       "       0.26216626, 0.27140117, 0.2674796 , 0.25768706, 0.24592236,\n",
       "       0.26442903, 0.24482118, 0.24007334, 0.25968117, 0.25828943,\n",
       "       0.26613256, 0.27927333, 0.23613608, 0.30697647, 0.6050157 ,\n",
       "       0.7649737 , 0.753209  , 0.75242037, 0.69359684, 0.64132273,\n",
       "       0.6452443 , 0.6595467 , 0.48307607, 0.27096117, 0.22782393,\n",
       "       0.1994949 , 0.18380862, 0.18210432, 0.17818275, 0.22132   ,\n",
       "       0.3821043 , 0.4683788 , 0.3193592 ], dtype=float32)"
      ]
     },
     "execution_count": 147,
     "metadata": {},
     "output_type": "execute_result"
    }
   ],
   "source": [
    "df_hands.input[0][0]"
   ]
  },
  {
   "cell_type": "code",
   "execution_count": null,
   "metadata": {
    "collapsed": true
   },
   "outputs": [],
   "source": []
  },
  {
   "cell_type": "code",
   "execution_count": null,
   "metadata": {
    "collapsed": true
   },
   "outputs": [],
   "source": []
  },
  {
   "cell_type": "code",
   "execution_count": null,
   "metadata": {
    "collapsed": true
   },
   "outputs": [],
   "source": []
  }
 ],
 "metadata": {
  "kernelspec": {
   "display_name": "Python [conda env:tensorflow]",
   "language": "python",
   "name": "conda-env-tensorflow-py"
  },
  "language_info": {
   "codemirror_mode": {
    "name": "ipython",
    "version": 3
   },
   "file_extension": ".py",
   "mimetype": "text/x-python",
   "name": "python",
   "nbconvert_exporter": "python",
   "pygments_lexer": "ipython3",
   "version": "3.6.4"
  }
 },
 "nbformat": 4,
 "nbformat_minor": 2
}
