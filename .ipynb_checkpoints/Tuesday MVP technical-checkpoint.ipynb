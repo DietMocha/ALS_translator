{
 "cells": [
  {
   "cell_type": "code",
   "execution_count": 85,
   "metadata": {},
   "outputs": [
    {
     "name": "stdout",
     "output_type": "stream",
     "text": [
      "\n"
     ]
    }
   ],
   "source": [
    "'''\n",
    "Capstone Roadmap:\n",
    "\n",
    "This is where I got the dataset > http://www.idiap.ch/resource/gestures/\n",
    "For a direct link to the Marcel data > http://www.idiap.ch/resource/gestures/data/dhp_marcel.tar.gz\n",
    "\n",
    "MVP     - Image classifier for B\n",
    "MVP+1   - Image Classifier for A, B, C, Five, Point\n",
    "MVP_ASL - Image Classifier for A, B, C, D, E... Z\n",
    "Proto   - Image Classifier for simple dictionary words\n",
    "Proto + second hand\n",
    "Proto + body\n",
    "Product - Video image Classifer <> GoPro, Kinect\n",
    "Final   - Works in an 'Google Translator' App\n",
    "'''\n",
    "print('')"
   ]
  },
  {
   "cell_type": "code",
   "execution_count": 86,
   "metadata": {},
   "outputs": [],
   "source": [
    "import os, glob, cv2, random, re, keras, tensorflow, itertools\n",
    "import numpy as np\n",
    "import pandas as pd\n",
    "import skimage.io as skio\n",
    "import skimage.transform as skt\n",
    "import matplotlib.pyplot as plt\n",
    "from PIL import Image, ImageFilter\n",
    "from IPython.core.interactiveshell import InteractiveShell\n",
    "from sklearn.cross_validation import train_test_split, cross_val_score\n",
    "\n",
    "%matplotlib inline"
   ]
  },
  {
   "cell_type": "code",
   "execution_count": 87,
   "metadata": {
    "collapsed": true
   },
   "outputs": [],
   "source": [
    "from keras.models import Sequential\n",
    "from keras.layers import Conv2D, MaxPooling2D\n",
    "from keras.layers import Activation, Dropout, Flatten, Dense"
   ]
  },
  {
   "cell_type": "code",
   "execution_count": 88,
   "metadata": {
    "collapsed": true
   },
   "outputs": [],
   "source": [
    "from sklearn import svm, datasets\n",
    "from sklearn.model_selection import train_test_split\n",
    "from sklearn.metrics import confusion_matrix, consensus_score, roc_auc_score, roc_curve, auc"
   ]
  },
  {
   "cell_type": "code",
   "execution_count": 114,
   "metadata": {},
   "outputs": [],
   "source": [
    "'''\n",
    "collecting all data locations into lists\n",
    "<> replace with code to check ./input for images, add to data\n",
    "'''\n",
    "\n",
    "part_five  = [image for image in glob.glob('../Daka/ALS_translator/Marcel-Train/Five/*')]\n",
    "part_a     = [image for image in glob.glob('../Daka/ALS_translator/Marcel-Train/A/*')]\n",
    "part_b     = [image for image in glob.glob('../Daka/ALS_translator/Marcel-Train/B/*')]\n",
    "part_point = [image for image in glob.glob('../Daka/ALS_translator/Marcel-Train/Point/*')]\n",
    "part_c     = [image for image in glob.glob('../Daka/ALS_translator/Marcel-Train/C/*')]\n"
   ]
  },
  {
   "cell_type": "markdown",
   "metadata": {},
   "source": [
    "## What does the dataset looklike?"
   ]
  },
  {
   "cell_type": "markdown",
   "metadata": {},
   "source": [
    "When working with images I can't just look at corrilations/plots and come up with a target related to what I am looking for. I need good data. And a good question. We see that the classes are unbalanced, but for our purposes since this is a classification I don't see this being a big factor."
   ]
  },
  {
   "cell_type": "code",
   "execution_count": 90,
   "metadata": {},
   "outputs": [
    {
     "data": {
      "image/png": "[encoded data removed]",
      "text/plain": [
       "<matplotlib.figure.Figure at 0x1c449f0630>"
      ]
     },
     "metadata": {},
     "output_type": "display_data"
    }
   ],
   "source": [
    "objects = ('Five', 'A Symbol', 'B Symbol', 'Pointing', 'C Symbol')\n",
    "y_pos = np.arange(len(objects))\n",
    "performance = [len(part_five),len(part_a),len(part_b),len(part_point),len(part_c)]\n",
    " \n",
    "plt.bar(y_pos, performance, align='center', alpha=0.5, color='#A54CF3')\n",
    "plt.xticks(y_pos, objects)\n",
    "plt.ylabel('Usage')\n",
    "plt.title('Programming language usage')\n",
    " \n",
    "plt.show()"
   ]
  },
  {
   "cell_type": "code",
   "execution_count": 91,
   "metadata": {},
   "outputs": [
    {
     "data": {
      "text/plain": [
       "('./input/Marcel-Train/A/A-train0910.ppm',\n",
       " './input/Marcel-Train/C/C-train521.ppm')"
      ]
     },
     "execution_count": 91,
     "metadata": {},
     "output_type": "execute_result"
    }
   ],
   "source": [
    "'''\n",
    "concating data locations into one list\n",
    "'''\n",
    "\n",
    "full = [part_a, part_b, part_c, part_point, part_five]\n",
    "image_paths= []\n",
    "for dataset in full:\n",
    "    image_paths.extend(dataset)\n",
    "    \n",
    "'''sanity check'''\n",
    "image_paths[1], image_paths[2001]"
   ]
  },
  {
   "cell_type": "code",
   "execution_count": 92,
   "metadata": {
    "scrolled": true
   },
   "outputs": [
    {
     "name": "stderr",
     "output_type": "stream",
     "text": [
      "/Users/njume/anaconda3/envs/tensorflow/lib/python3.6/site-packages/skimage/transform/_warps.py:84: UserWarning: The default mode, 'constant', will be changed to 'reflect' in skimage 0.15.\n",
      "  warn(\"The default mode, 'constant', will be changed to 'reflect' in \"\n",
      "/Users/njume/anaconda3/envs/tensorflow/lib/python3.6/site-packages/skimage/io/_plugins/matplotlib_plugin.py:51: FutureWarning: Conversion of the second argument of issubdtype from `float` to `np.floating` is deprecated. In future, it will be treated as `np.float64 == np.dtype(float).type`.\n",
      "  out_of_range_float = (np.issubdtype(image.dtype, np.float) and\n"
     ]
    },
    {
     "data": {
      "text/plain": [
       "((64, 64), (64, 64, 1))"
      ]
     },
     "execution_count": 92,
     "metadata": {},
     "output_type": "execute_result"
    },
    {
     "data": {
      "image/png": "[encoded data removed]",
      "text/plain": [
       "<matplotlib.figure.Figure at 0x1c44897550>"
      ]
     },
     "metadata": {},
     "output_type": "display_data"
    }
   ],
   "source": [
    "'''length X width X channel (64,64, 1) does not work with skimage, it breaks plt'''\n",
    "first_pic_sk = skio.imread(image_paths[0], as_grey=True)\n",
    "first_pic_skt = skt.resize(first_pic_sk,(64,64,1))\n",
    "# skio.imshow(first_pic_skt)\n",
    "\n",
    "first_pic_sk2 = skt.resize(first_pic_sk,(64, 64))\n",
    "skio.imshow(first_pic_sk2)\n",
    "first_pic_sk2.shape, first_pic_skt.shape"
   ]
  },
  {
   "cell_type": "code",
   "execution_count": 93,
   "metadata": {},
   "outputs": [
    {
     "name": "stderr",
     "output_type": "stream",
     "text": [
      "/Users/njume/anaconda3/envs/tensorflow/lib/python3.6/site-packages/skimage/io/_plugins/matplotlib_plugin.py:51: FutureWarning: Conversion of the second argument of issubdtype from `float` to `np.floating` is deprecated. In future, it will be treated as `np.float64 == np.dtype(float).type`.\n",
      "  out_of_range_float = (np.issubdtype(image.dtype, np.float) and\n"
     ]
    },
    {
     "data": {
      "text/plain": [
       "<matplotlib.image.AxesImage at 0x1c3154bfd0>"
      ]
     },
     "execution_count": 93,
     "metadata": {},
     "output_type": "execute_result"
    },
    {
     "data": {
      "image/png": "[encoded data removed]",
      "text/plain": [
       "<matplotlib.figure.Figure at 0x1c44ac2860>"
      ]
     },
     "metadata": {},
     "output_type": "display_data"
    }
   ],
   "source": [
    "skio.imshow(first_pic_sk)"
   ]
  },
  {
   "cell_type": "code",
   "execution_count": 94,
   "metadata": {},
   "outputs": [
    {
     "name": "stderr",
     "output_type": "stream",
     "text": [
      "/Users/njume/anaconda3/envs/tensorflow/lib/python3.6/site-packages/skimage/transform/_warps.py:84: UserWarning: The default mode, 'constant', will be changed to 'reflect' in skimage 0.15.\n",
      "  warn(\"The default mode, 'constant', will be changed to 'reflect' in \"\n"
     ]
    },
    {
     "name": "stdout",
     "output_type": "stream",
     "text": [
      "./input/Marcel-Train/A/A-train0904.ppm\n",
      "(64, 64)\n"
     ]
    }
   ],
   "source": [
    "'''\n",
    "working image size will be 64x64\n",
    "'''\n",
    "\n",
    "all_images = []\n",
    "largest = 0,0\n",
    "for image in image_paths:\n",
    "    img = skio.imread(image, as_grey=True)\n",
    "    img = img.astype('float32')\n",
    "    img = skt.resize(img,(64, 64))\n",
    "    all_images.append(img)\n",
    "    \n",
    "    '''sanity check'''\n",
    "    if img.shape > largest:\n",
    "        largest = img.shape\n",
    "        print(image)\n",
    "        print(largest)\n",
    "        \n",
    "converted_X = np.array(all_images)"
   ]
  },
  {
   "cell_type": "code",
   "execution_count": 95,
   "metadata": {},
   "outputs": [
    {
     "data": {
      "text/plain": [
       "'COMPARISON PURPOSES. REMEMBER IT READS IMAGES AS BGR NOT RGB,\\nthe quality of the photo is the same when reshaped'"
      ]
     },
     "execution_count": 95,
     "metadata": {},
     "output_type": "execute_result"
    }
   ],
   "source": [
    "'''COMPARISON PURPOSES. REMEMBER IT READS IMAGES AS BGR NOT RGB,\n",
    "the quality of the photo is the same when reshaped'''\n",
    "# cv_image = cv2.imread(image_paths[0], 0)\n",
    "# cv_image = cv2.resize(cv_image, (32,32))\n",
    "# plt.imshow(cv_image)"
   ]
  },
  {
   "cell_type": "code",
   "execution_count": 96,
   "metadata": {},
   "outputs": [
    {
     "data": {
      "text/plain": [
       "0    3950\n",
       "1     487\n",
       "Name: 0, dtype: int64"
      ]
     },
     "execution_count": 96,
     "metadata": {},
     "output_type": "execute_result"
    }
   ],
   "source": [
    " '''Setting y target'''\n",
    "target     = []\n",
    "\n",
    "for path in image_paths:\n",
    "    if re.search((r'\\/input\\/Marcel-Train\\/B'), path) != None:\n",
    "        target.append(1)\n",
    "    else:\n",
    "        target.append(0)\n",
    "\n",
    "'''cant figure out list coprehension or lambda for this'''\n",
    "# [c if re.search((r'\\/input\\/Marcel-Train\\/B') == None, path) for path in image_paths]        \n",
    "# <>forloop<>target.append(lambda x: 0 if path != None else 1)\n",
    "\n",
    "'''Sanity Check'''\n",
    "_ = pd.DataFrame(target)\n",
    "_[0].value_counts()"
   ]
  },
  {
   "cell_type": "code",
   "execution_count": 97,
   "metadata": {},
   "outputs": [
    {
     "data": {
      "text/plain": [
       "array([0.63, 0.68, 0.68, 0.68, 0.68, 0.68, 0.68, 0.68, 0.68, 0.74, 0.82,\n",
       "       0.82, 0.81, 0.81, 0.81, 0.81, 0.81, 0.81, 0.81, 0.81, 0.81, 0.81,\n",
       "       0.82, 0.82, 0.82, 0.82, 0.82, 0.82, 0.82, 0.82, 0.82, 0.82, 0.82,\n",
       "       0.82, 0.82, 0.82, 0.82, 0.81, 0.82, 0.82, 0.82, 0.82, 0.82, 0.82,\n",
       "       0.82, 0.82, 0.82, 0.82, 0.82, 0.82, 0.82, 0.82, 0.82, 0.82, 0.83,\n",
       "       0.83, 0.83, 0.82, 0.83, 0.83, 0.83, 0.83, 0.83, 0.83])"
      ]
     },
     "execution_count": 97,
     "metadata": {},
     "output_type": "execute_result"
    }
   ],
   "source": [
    "'''Setting X, y'''\n",
    "y = target\n",
    "X = converted_X\n",
    "\n",
    "X_train, X_test, y_train, y_test = train_test_split(X, y, \n",
    "                                                    test_size=0.3, \n",
    "                                                    random_state=42)\n",
    "X_train[0]    # this is one image\n",
    "X_train[0][0] # this is one row of that image"
   ]
  },
  {
   "cell_type": "markdown",
   "metadata": {},
   "source": [
    "## Personally I like to check whether or not I have over shrunk my images."
   ]
  },
  {
   "cell_type": "markdown",
   "metadata": {},
   "source": [
    "### I stick the a degree that I can still make out the picture when I am working with a small dataset. We can check this with matplotlib.\n",
    "##### but it's not just that easy."
   ]
  },
  {
   "cell_type": "code",
   "execution_count": 98,
   "metadata": {},
   "outputs": [
    {
     "data": {
      "text/plain": [
       "(64, 64)"
      ]
     },
     "execution_count": 98,
     "metadata": {},
     "output_type": "execute_result"
    },
    {
     "data": {
      "image/png": "[encoded data removed]",
      "text/plain": [
       "<matplotlib.figure.Figure at 0x1c44bd7208>"
      ]
     },
     "metadata": {},
     "output_type": "display_data"
    }
   ],
   "source": [
    "'''sanity check'''\n",
    "plt.imshow(X_train[5])\n",
    "X_train[5].shape"
   ]
  },
  {
   "cell_type": "code",
   "execution_count": 99,
   "metadata": {},
   "outputs": [
    {
     "data": {
      "text/plain": [
       "<matplotlib.image.AxesImage at 0x1c44960128>"
      ]
     },
     "execution_count": 99,
     "metadata": {},
     "output_type": "execute_result"
    },
    {
     "data": {
      "image/png": "[encoded data removed]",
      "text/plain": [
       "<matplotlib.figure.Figure at 0x1c31517438>"
      ]
     },
     "metadata": {},
     "output_type": "display_data"
    }
   ],
   "source": [
    "'''Turns out matplot lib doesn\"t like gray images, hmm...'''\n",
    "plt.imshow(X_train[0],cmap=plt.get_cmap('gray'))"
   ]
  },
  {
   "cell_type": "markdown",
   "metadata": {},
   "source": [
    "## Upcoming code sneak peak:\n",
    "#### This code is imported from <a href=\"https://blog.keras.io/building-powerful-image-classification-models-using-very-little-data.html\">this site</a> it deals with orentation and limited datasets."
   ]
  },
  {
   "cell_type": "code",
   "execution_count": 100,
   "metadata": {},
   "outputs": [
    {
     "name": "stdout",
     "output_type": "stream",
     "text": [
      "\n"
     ]
    }
   ],
   "source": [
    "\n",
    "'''from keras.preprocessing.image import ImageDataGenerator, array_to_img, img_to_array, load_img\n",
    "\n",
    "datagen = ImageDataGenerator(\n",
    "        rotation_range=20,\n",
    "        width_shift_range=0.2,\n",
    "        height_shift_range=0.2,\n",
    "        shear_range=0.2,\n",
    "        zoom_range=0.2,\n",
    "        vertical_flip=True,\n",
    "        fill_mode='nearest')\n",
    "\n",
    "# img = load_img('data/train/cats/cat.0.jpg')  # this is a PIL image\n",
    "# x = img_to_array(img)  # this is a Numpy array with shape (3, 150, 150)\n",
    "# x = x.reshape((1,) + x.shape)  # this is a Numpy array with shape (1, 3, 150, 150)\n",
    "X_train.reshape((1,)+ X_train.shape)\n",
    "# the .flow() command below generates batches of randomly transformed images\n",
    "# and saves the results to the `preview/` directory\n",
    "i = 0\n",
    "for batch in datagen.flow(X_train, batch_size=1,save_to_dir='preview', save_prefix='cat', save_format='jpeg'):\n",
    "    i += 1\n",
    "    if i > 10:\n",
    "        break  # otherwise the generator would loop indefinitely\n",
    "def image_gen(batch_size, y_dict, path):\n",
    "    directory = os.listdir(path=path)\n",
    "    Xout = []\n",
    "    yout = []\n",
    "    counter = 0\n",
    "    for filename in it.cycle(directory):\n",
    "        if '.jpg' in filename:\n",
    "            try:\n",
    "                yout.append(y_dict[filename])\n",
    "                img=cv2.imread(path + filename)\n",
    "                img = img/255\n",
    "                img.reshape(1,400,640,3)\n",
    "                Xout.append(img)\n",
    "                counter += 1\n",
    "                if counter % batch_size == 0:\n",
    "                    yield (np.array(Xout), np.array(yout))#np.random.randint(2, size=batch_size))\n",
    "                    Xout = []\n",
    "                    yout= []\n",
    "            except:\n",
    "                continue'''\n",
    "print('')"
   ]
  },
  {
   "cell_type": "markdown",
   "metadata": {},
   "source": [
    "##### Another Sanity check ~"
   ]
  },
  {
   "cell_type": "code",
   "execution_count": 101,
   "metadata": {},
   "outputs": [
    {
     "data": {
      "text/plain": [
       "(0.9960784316062927, 0.0, 0.9960784316062927, 0.0)"
      ]
     },
     "execution_count": 101,
     "metadata": {},
     "output_type": "execute_result"
    }
   ],
   "source": [
    "X_train.max(), X_train.min(), X_test.max(), X_test.min()"
   ]
  },
  {
   "cell_type": "code",
   "execution_count": 102,
   "metadata": {},
   "outputs": [
    {
     "data": {
      "text/plain": [
       "(3105, 64, 64)"
      ]
     },
     "execution_count": 102,
     "metadata": {},
     "output_type": "execute_result"
    }
   ],
   "source": [
    "X_train.shape"
   ]
  },
  {
   "cell_type": "markdown",
   "metadata": {},
   "source": [
    "## Alright lets put the data to the grinder, and file it down in a neural network."
   ]
  },
  {
   "cell_type": "markdown",
   "metadata": {},
   "source": [
    "#### I have chosen a Convelutional Neural Network because I need to read images in a way that the computer can seperate what is and isnt my target. It does this by puting every pixel into an array of numbers that represent the colors its giving off.\n",
    "\n",
    "While my images are small and I did reduce their pixel count, each pixel is still far to big to be digested by a simple macbook in a timely fashion. To solve this we pool similar boxes together and reduce the image to an easier format."
   ]
  },
  {
   "cell_type": "code",
   "execution_count": 103,
   "metadata": {
    "collapsed": true
   },
   "outputs": [],
   "source": [
    "'''nn imported from lesson'''\n",
    "model = Sequential()\n",
    "model.add(Conv2D(filters = 6, \n",
    "                 kernel_size= 3, \n",
    "                 activation='relu', \n",
    "                 input_shape=(64, 64, 1)))\n",
    "model.add(MaxPooling2D(pool_size = (2,2)))\n",
    "model.add(Conv2D(filters = 16,\n",
    "                 kernel_size= 3,\n",
    "                 activation='relu'))\n",
    "model.add(MaxPooling2D(pool_size = (2,2)))\n",
    "model.add(Dropout(0.25))\n",
    "model.add(Flatten())\n",
    "model.add(Dense(128, activation='relu'))\n",
    "model.add(Dropout(0.5))\n",
    "model.add(Dense(1, activation='sigmoid'))"
   ]
  },
  {
   "cell_type": "code",
   "execution_count": 104,
   "metadata": {
    "collapsed": true
   },
   "outputs": [],
   "source": [
    "model.compile(loss='binary_crossentropy', \n",
    "              optimizer='adam', \n",
    "              metrics=['accuracy'])"
   ]
  },
  {
   "cell_type": "markdown",
   "metadata": {},
   "source": [
    "Now I need to make all my images in X_train the same size so that it will read properly in the NN. The 1 in (64,64,1) is there because these images have been grayscaled. Don't let matplotlib's default print settings fool you into thinking that the images are in RGB."
   ]
  },
  {
   "cell_type": "code",
   "execution_count": 105,
   "metadata": {
    "collapsed": true
   },
   "outputs": [],
   "source": [
    "X_train = X_train.reshape(X_train.shape[0],64,64,1)\n",
    "X_test = X_test.reshape(X_test.shape[0],64,64,1)"
   ]
  },
  {
   "cell_type": "markdown",
   "metadata": {},
   "source": [
    "Now that the model has been completely setup, and my images are all the same size we are ready to train the model on the data. We can see with simpilier solutions not having 1000s of images to train on is not that big of a deal.\n",
    "The strength of this model is within the small varience between images, as they are all pictures of hands doing similar things. \n",
    "\n",
    "I believe CNN gets a lot harder when your dataset is pictures of things that look nothing alike. In this case the NN can tell that there is a hand in every image."
   ]
  },
  {
   "cell_type": "code",
   "execution_count": 106,
   "metadata": {},
   "outputs": [
    {
     "name": "stdout",
     "output_type": "stream",
     "text": [
      "Epoch 1/30\n",
      "3105/3105 [==============================] - 4s 1ms/step - loss: 0.3393 - acc: 0.8944\n",
      "Epoch 2/30\n",
      "3105/3105 [==============================] - 3s 1ms/step - loss: 0.1862 - acc: 0.9137\n",
      "Epoch 3/30\n",
      "3105/3105 [==============================] - 3s 986us/step - loss: 0.1290 - acc: 0.9414\n",
      "Epoch 4/30\n",
      "3105/3105 [==============================] - 3s 967us/step - loss: 0.1121 - acc: 0.9546\n",
      "Epoch 5/30\n",
      "3105/3105 [==============================] - 3s 1ms/step - loss: 0.0953 - acc: 0.9655\n",
      "Epoch 6/30\n",
      "3105/3105 [==============================] - 3s 1ms/step - loss: 0.0904 - acc: 0.9707\n",
      "Epoch 7/30\n",
      "3105/3105 [==============================] - 3s 1ms/step - loss: 0.0737 - acc: 0.9758\n",
      "Epoch 8/30\n",
      "3105/3105 [==============================] - 3s 1ms/step - loss: 0.0762 - acc: 0.9762\n",
      "Epoch 9/30\n",
      "3105/3105 [==============================] - 3s 1ms/step - loss: 0.0729 - acc: 0.9771\n",
      "Epoch 10/30\n",
      "3105/3105 [==============================] - 4s 1ms/step - loss: 0.0653 - acc: 0.9842\n",
      "Epoch 11/30\n",
      "3105/3105 [==============================] - 3s 1ms/step - loss: 0.0571 - acc: 0.9852\n",
      "Epoch 12/30\n",
      "3105/3105 [==============================] - 4s 1ms/step - loss: 0.0528 - acc: 0.9865\n",
      "Epoch 13/30\n",
      "3105/3105 [==============================] - 3s 1ms/step - loss: 0.0685 - acc: 0.9781\n",
      "Epoch 14/30\n",
      "3105/3105 [==============================] - 3s 1ms/step - loss: 0.0413 - acc: 0.9878\n",
      "Epoch 15/30\n",
      "3105/3105 [==============================] - 3s 1ms/step - loss: 0.0400 - acc: 0.9874\n",
      "Epoch 16/30\n",
      "3105/3105 [==============================] - 3s 1ms/step - loss: 0.0266 - acc: 0.9919\n",
      "Epoch 17/30\n",
      "3105/3105 [==============================] - 3s 1ms/step - loss: 0.0252 - acc: 0.9907\n",
      "Epoch 18/30\n",
      "3105/3105 [==============================] - 3s 1ms/step - loss: 0.0299 - acc: 0.9916\n",
      "Epoch 19/30\n",
      "3105/3105 [==============================] - 3s 1ms/step - loss: 0.0221 - acc: 0.9939\n",
      "Epoch 20/30\n",
      "3105/3105 [==============================] - 3s 1ms/step - loss: 0.0216 - acc: 0.9926\n",
      "Epoch 21/30\n",
      "3105/3105 [==============================] - 3s 984us/step - loss: 0.0202 - acc: 0.9926\n",
      "Epoch 22/30\n",
      "3105/3105 [==============================] - 3s 1ms/step - loss: 0.0171 - acc: 0.9945\n",
      "Epoch 23/30\n",
      "3105/3105 [==============================] - 3s 1ms/step - loss: 0.0140 - acc: 0.9965\n",
      "Epoch 24/30\n",
      "3105/3105 [==============================] - 3s 1ms/step - loss: 0.0161 - acc: 0.9945\n",
      "Epoch 25/30\n",
      "3105/3105 [==============================] - 3s 1ms/step - loss: 0.0121 - acc: 0.9955\n",
      "Epoch 26/30\n",
      "3105/3105 [==============================] - 3s 982us/step - loss: 0.0161 - acc: 0.9955\n",
      "Epoch 27/30\n",
      "3105/3105 [==============================] - 3s 971us/step - loss: 0.0099 - acc: 0.9981\n",
      "Epoch 28/30\n",
      "3105/3105 [==============================] - 3s 1ms/step - loss: 0.0104 - acc: 0.9974\n",
      "Epoch 29/30\n",
      "3105/3105 [==============================] - 3s 1ms/step - loss: 0.0096 - acc: 0.9968\n",
      "Epoch 30/30\n",
      "3105/3105 [==============================] - 3s 1ms/step - loss: 0.0274 - acc: 0.9900\n"
     ]
    },
    {
     "data": {
      "text/plain": [
       "<keras.callbacks.History at 0x1c43fa09b0>"
      ]
     },
     "execution_count": 106,
     "metadata": {},
     "output_type": "execute_result"
    }
   ],
   "source": [
    "model.fit(X_train, y_train,\n",
    "          batch_size=32, epochs=30)"
   ]
  },
  {
   "cell_type": "code",
   "execution_count": 107,
   "metadata": {},
   "outputs": [
    {
     "name": "stdout",
     "output_type": "stream",
     "text": [
      "loss: 0.11241355747286533\n",
      "acc: 0.9872372370582443\n"
     ]
    }
   ],
   "source": [
    "score = model.evaluate(X_test, y_test, verbose=0)\n",
    "labels = model.metrics_names\n",
    "print(str(labels[0]) + \": \" + str(score[0]))\n",
    "print(str(labels[1]) + \": \" + str(score[1]))"
   ]
  },
  {
   "cell_type": "markdown",
   "metadata": {
    "collapsed": true
   },
   "source": [
    "# How did we do?"
   ]
  },
  {
   "cell_type": "markdown",
   "metadata": {},
   "source": [
    "We need to check how often we were able to predict the B symbol. We can do this by checking the Confusion matrix of our output."
   ]
  },
  {
   "cell_type": "code",
   "execution_count": 108,
   "metadata": {},
   "outputs": [],
   "source": [
    "def Confusion_m(cnf_matrix):\n",
    "    \n",
    "    \"\"\"\n",
    "    This function prints and plots the confusion matrix.\n",
    "    Normalization can be applied by setting `normalize=True`.\n",
    "    From http://scikit-learn.org/stable/auto_examples/model_selection/plot_confusion_matrix.html#sphx-glr-auto-examples-model-selection-plot-confusion-matrix-py\n",
    "    \"\"\"\n",
    "    # cnf_matrix = confusion_matrix(y_test, y_pred)\n",
    "#     np.set_printoptions(precision=2)\n",
    "\n",
    "    # Plot non-normalized confusion matrix\n",
    "    plt.figure()\n",
    "    plot_confusion_matrix(cnf_matrix, \n",
    "                          classes=['Not B', 'is B'],\n",
    "                          title='Confusion matrix, without normalization')\n",
    "\n",
    "    # Plot normalized confusion matrix\n",
    "    plt.figure()\n",
    "    plot_confusion_matrix(cnf_matrix, \n",
    "                          classes=['Not B', 'is B'], \n",
    "                          normalize=True,\n",
    "                          title='Normalized confusion matrix')\n",
    "\n",
    "    plt.show()"
   ]
  },
  {
   "cell_type": "markdown",
   "metadata": {},
   "source": [
    "We can also read our Roc score. "
   ]
  },
  {
   "cell_type": "code",
   "execution_count": 109,
   "metadata": {
    "collapsed": true
   },
   "outputs": [],
   "source": [
    "def plot_roc(y_test, probs):\n",
    "    '''\n",
    "        This function plots the roc curve\n",
    "        from http://scikit-learn.org/stable/auto_examples/model_selection/plot_roc.html#sphx-glr-auto-examples-model-selection-plot-roc-py\n",
    "    '''\n",
    "    fpr, tpr, threshold = roc_curve(y_test, probs)\n",
    "    roc_auc = auc(fpr, tpr)\n",
    "    \n",
    "    plt.title('ROC'),\n",
    "    plt.plot(fpr, tpr,\n",
    "             color = 'b',\n",
    "             label = 'AUC = {0}'.format(roc_auc))\n",
    "    \n",
    "    plt.legend(loc = 'lower right')\n",
    "    \n",
    "    plt.plot([0, 1], [0, 1],'r--')\n",
    "    plt.xlim([0, 1])\n",
    "    plt.ylim([0, 1])\n",
    "    plt.ylabel('True Positive Rate')\n",
    "    plt.xlabel('False Positive Rate')\n",
    "    plt.show()"
   ]
  },
  {
   "cell_type": "code",
   "execution_count": 110,
   "metadata": {},
   "outputs": [
    {
     "data": {
      "text/plain": [
       "(0.9999608, 1.348363e-26)"
      ]
     },
     "execution_count": 110,
     "metadata": {},
     "output_type": "execute_result"
    }
   ],
   "source": [
    "y_pred = model.predict(X_test)\n",
    "cnf_matrix = confusion_matrix(y_test,np.round(y_pred))\n",
    "'''sanity check'''\n",
    "y_pred.max(), y_pred.min()"
   ]
  },
  {
   "cell_type": "code",
   "execution_count": 111,
   "metadata": {},
   "outputs": [
    {
     "name": "stdout",
     "output_type": "stream",
     "text": [
      "Confusion matrix, without normalization\n",
      "[[1168    3]\n",
      " [  14  147]]\n",
      "Normalized confusion matrix\n",
      "[[1.   0.  ]\n",
      " [0.09 0.91]]\n"
     ]
    },
    {
     "data": {
      "image/png": "[encoded data removed]",
      "text/plain": [
       "<matplotlib.figure.Figure at 0x1c31d0ec88>"
      ]
     },
     "metadata": {},
     "output_type": "display_data"
    },
    {
     "data": {
      "image/png": "[encoded data removed]",
      "text/plain": [
       "<matplotlib.figure.Figure at 0x1c43dd3e48>"
      ]
     },
     "metadata": {},
     "output_type": "display_data"
    },
    {
     "data": {
      "image/png": "[encoded data removed]",
      "text/plain": [
       "<matplotlib.figure.Figure at 0x1c4e0b1710>"
      ]
     },
     "metadata": {},
     "output_type": "display_data"
    }
   ],
   "source": [
    "Confusion_m(cnf_matrix)\n",
    "plot_roc(y_test, np.round(y_pred))"
   ]
  },
  {
   "cell_type": "code",
   "execution_count": 112,
   "metadata": {},
   "outputs": [
    {
     "name": "stdout",
     "output_type": "stream",
     "text": [
      "161 All B's in test set\n",
      "1332 All images in test set\n"
     ]
    },
    {
     "data": {
      "text/plain": [
       "(None, None)"
      ]
     },
     "execution_count": 112,
     "metadata": {},
     "output_type": "execute_result"
    }
   ],
   "source": [
    "print(sum(y_test), \"All B's in test set\"),print(len(y_test), 'All images in test set')"
   ]
  },
  {
   "cell_type": "code",
   "execution_count": 113,
   "metadata": {},
   "outputs": [
    {
     "data": {
      "text/plain": [
       "''"
      ]
     },
     "execution_count": 113,
     "metadata": {},
     "output_type": "execute_result"
    }
   ],
   "source": [
    "''''''\n"
   ]
  },
  {
   "cell_type": "code",
   "execution_count": null,
   "metadata": {},
   "outputs": [],
   "source": []
  },
  {
   "cell_type": "code",
   "execution_count": null,
   "metadata": {
    "collapsed": true
   },
   "outputs": [],
   "source": []
  }
 ],
 "metadata": {
  "kernelspec": {
   "display_name": "Python [conda env:tensorflow]",
   "language": "python",
   "name": "conda-env-tensorflow-py"
  },
  "language_info": {
   "codemirror_mode": {
    "name": "ipython",
    "version": 3
   },
   "file_extension": ".py",
   "mimetype": "text/x-python",
   "name": "python",
   "nbconvert_exporter": "python",
   "pygments_lexer": "ipython3",
   "version": "3.6.4"
  }
 },
 "nbformat": 4,
 "nbformat_minor": 2
}
